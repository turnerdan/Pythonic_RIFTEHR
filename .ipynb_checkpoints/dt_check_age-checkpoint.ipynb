{
 "cells": [
  {
   "cell_type": "code",
   "execution_count": 3,
   "metadata": {},
   "outputs": [
    {
     "name": "stdout",
     "output_type": "stream",
     "text": [
      "pt 800000 ['Unnamed: 0', 'MRN', 'FirstName', 'LastName', 'PhoneNumber', 'Zipcode', 'age', 'Sex']\n",
      "ec 900000\n"
     ]
    }
   ],
   "source": [
    "# Snippet from main_script.py\n",
    "import pandas as pd\n",
    "import numpy as np\n",
    "from pathlib import Path\n",
    "from __main__ import *\n",
    "\n",
    "\n",
    "\n",
    "# This folder can be separate from the folder which contains your code\n",
    "main_inputs_path = Path(\"/Volumes/fsmresfiles/PrevMed/Projects/Family_Linkage\")\n",
    "\n",
    "# Paths to the input files themselves\n",
    "patients_file_path = Path(main_inputs_path / \"100K SAMPLE/100k_patientsample.csv\")\n",
    "emergency_contacts_file_path = Path(main_inputs_path / \"100K SAMPLE/100k_emergencycontactsample.csv\")\n",
    "relation_map_file_path = Path(main_inputs_path / \"relation_map.csv\")\n",
    "#mother_baby_path = Path(main_inputs_path / \"mom_baby_MRNS.csv\")\n",
    "gender_path = Path(main_inputs_path / \"pt_mrn_gender_final.csv\")\n",
    "\n",
    "# Path to file with MRS and age columns DT\n",
    "age_file_path = Path(main_inputs_path / \"matched_mrn_age_final.csv\") \n",
    "\n",
    "\n",
    "pt_df = pd.read_csv(patients_file_path, dtype=str, index_col=0)\n",
    "ec_df = pd.read_csv(emergency_contacts_file_path, dtype=str, index_col=0)\n",
    "\n",
    "### This is in main\n",
    "\n",
    "\n",
    "### This function goes in match_in_matches and filters out MRNs that have a match w/o conflicts\n",
    "\n",
    "# PRE\n",
    "print(\"pt\", pt_df.size, list(pt_df.columns))\n",
    "print(\"ec\", ec_df.size)"
   ]
  },
  {
   "cell_type": "code",
   "execution_count": null,
   "metadata": {},
   "outputs": [],
   "source": []
  },
  {
   "cell_type": "code",
   "execution_count": null,
   "metadata": {},
   "outputs": [],
   "source": []
  }
 ],
 "metadata": {
  "kernelspec": {
   "display_name": "Python 3",
   "language": "python",
   "name": "python3"
  },
  "language_info": {
   "codemirror_mode": {
    "name": "ipython",
    "version": 3
   },
   "file_extension": ".py",
   "mimetype": "text/x-python",
   "name": "python",
   "nbconvert_exporter": "python",
   "pygments_lexer": "ipython3",
   "version": "3.7.4"
  }
 },
 "nbformat": 4,
 "nbformat_minor": 2
}
