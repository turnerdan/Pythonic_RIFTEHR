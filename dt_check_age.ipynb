{
 "cells": [
  {
   "cell_type": "code",
   "execution_count": 20,
   "metadata": {},
   "outputs": [
    {
     "name": "stdout",
     "output_type": "stream",
     "text": [
      "pre pt head 147945\n",
      "pre ec head 240128\n",
      "prematched  224\n",
      "post pt head 147945\n",
      "post ec head 240128\n"
     ]
    }
   ],
   "source": [
    "# Snippet from main_script.py\n",
    "import pandas as pd\n",
    "import numpy as np\n",
    "from pathlib import Path\n",
    "from __main__ import *\n",
    "\n",
    "\n",
    "\n",
    "main_input_path = Path(\"/Volumes/fsmresfiles/PrevMed/Projects/Family_Linkage\")\n",
    "id_conflicts = Path(main_input_path / (\"process_age_out.csv\")) # put in main_script.py\n",
    "id_conflicts = pd.read_csv(id_conflicts)\n",
    "\n",
    "preprocessed_pt_fp = Path(main_input_path / \"preprocessed_To_useAllPatients_TableFinal_withConflicts.csv\")\n",
    "preprocessed_ec_fp = Path(main_input_path / \"preprocessed_To_useEmergencyContact_TableFinal_withConflicts.csv\")\n",
    "\n",
    "\n",
    "\n",
    "input_pt_fp = preprocessed_pt_fp\n",
    "input_ec_fp = preprocessed_ec_fp\n",
    "\n",
    "pt_df = pd.read_csv(input_pt_fp, dtype=str)\n",
    "ec_df = pd.read_csv(input_ec_fp, dtype=str)\n",
    "\n",
    "### This is in main\n",
    "\n",
    "\n",
    "### This function goes in match_in_matches and filters out MRNs that have a match w/o conflicts\n",
    "\n",
    "# PRE\n",
    "print(\"pre pt head\", pt_df.size)\n",
    "print(\"pre ec head\", ec_df.size)\n",
    "#pt_df.to_csv(Path(main_input_path / (\"dt_pt_pre.csv\")), index=False)\n",
    "#ec_df.to_csv(Path(main_input_path / (\"dt_ec_pre.csv\")), index=False)\n",
    "\n",
    "# Identify MRNs of matches\n",
    "prematched = id_conflicts.loc[~(id_conflicts['age_conflict'] + id_conflicts['conflict'] > 1)] # filter out conflicts\n",
    "prematched = prematched['pt_mrn'].tolist() + prematched['matched_mrn'].tolist() # set of unique mrns that are matched\n",
    "prematched = [str(x) for x in prematched] # convert the list of ints to a list of strs\n",
    "print(\"prematched \", len(prematched))\n",
    "\n",
    "# Filter out those matched MRNs\n",
    "pt_df = pt_df[~pt_df['MRN'].isin(prematched)]\n",
    "ec_df = ec_df[~ec_df['MRN_1'].isin(prematched)]\n",
    "\n",
    "\n",
    "\n",
    "# POST\n",
    "# print tests\n",
    "print(\"post pt head\", pt_df.size)\n",
    "print(\"post ec head\", ec_df.size)\n",
    "# pt_df.to_csv(Path(main_inputs_path / (\"dt_pt_post.csv\")), index=False)\n",
    "# ec_df.to_csv(Path(main_inputs_path / (\"dt_ec_post.csv\")), index=False)\n",
    "# prematched.to_csv(Path(main_inputs_path / (\"dt_prematched_post.csv\")), index=False)\n",
    " "
   ]
  },
  {
   "cell_type": "code",
   "execution_count": null,
   "metadata": {},
   "outputs": [],
   "source": []
  },
  {
   "cell_type": "code",
   "execution_count": null,
   "metadata": {},
   "outputs": [],
   "source": []
  }
 ],
 "metadata": {
  "kernelspec": {
   "display_name": "Python 3",
   "language": "python",
   "name": "python3"
  },
  "language_info": {
   "codemirror_mode": {
    "name": "ipython",
    "version": 3
   },
   "file_extension": ".py",
   "mimetype": "text/x-python",
   "name": "python",
   "nbconvert_exporter": "python",
   "pygments_lexer": "ipython3",
   "version": "3.7.4"
  }
 },
 "nbformat": 4,
 "nbformat_minor": 2
}
